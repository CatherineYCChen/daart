{
 "cells": [
  {
   "cell_type": "code",
   "execution_count": null,
   "metadata": {},
   "outputs": [],
   "source": [
    "import os\n",
    "\n",
    "from daart.data import DataGenerator\n",
    "from daart.models import HardSegmenter\n",
    "from daart.transforms import ZScore"
   ]
  },
  {
   "cell_type": "markdown",
   "metadata": {},
   "source": [
    "### build data generator"
   ]
  },
  {
   "cell_type": "code",
   "execution_count": null,
   "metadata": {},
   "outputs": [],
   "source": [
    "# define data paths\n",
    "base_dir = '/media/mattw/fly/behavior'\n",
    "expt_id = '2019_06_26_fly2'\n",
    "markers_file = os.path.join(base_dir, 'labels', expt_id + '_labeled.h5')\n",
    "labels_file = os.path.join(\n",
    "    base_dir, 'segmentation', 'states-v2.1', expt_id + '_beh-states-heuristic.pkl')\n",
    "\n",
    "# define data generator signals\n",
    "signals = ['markers', 'labels']\n",
    "transforms = [ZScore(), None]\n",
    "paths = [markers_file, labels_file]\n",
    "device = 'cuda'  # 'cpu' | 'cuda'\n",
    "\n",
    "trial_splits = {\n",
    "    'train_tr': 9,\n",
    "    'val_tr': 1,\n",
    "    'test_tr': 0,\n",
    "    'gap_tr': 0\n",
    "}\n",
    "\n",
    "# build data generator\n",
    "data_gen = DataGenerator(\n",
    "    [expt_id], [signals], [transforms], [paths], device=device, batch_size=500, \n",
    "    trial_splits=trial_splits)\n",
    "print(data_gen)"
   ]
  },
  {
   "cell_type": "code",
   "execution_count": null,
   "metadata": {},
   "outputs": [],
   "source": [
    "# see what data generator returns\n",
    "data, dataset = data_gen.next_batch('train')\n",
    "print(data['batch_idx'])\n",
    "print(data['markers'].shape)\n",
    "print(data['labels'].shape)"
   ]
  },
  {
   "cell_type": "markdown",
   "metadata": {},
   "source": [
    "### build model"
   ]
  },
  {
   "cell_type": "code",
   "execution_count": null,
   "metadata": {},
   "outputs": [],
   "source": [
    "# define model params\n",
    "hparams = {\n",
    "    'model_type': 'temporal-mlp',\n",
    "    'input_size': 16,  # dimensionality of markers\n",
    "    'output_size': 5,  # number of classes\n",
    "    'n_hid_layers': 1,  # hidden layers in network\n",
    "    'n_hid_units': 32,  # hidden units per hidden layer\n",
    "    'n_lags': 16,  # width of temporal convolution window\n",
    "    'activation': 'relu',  # layer nonlinearity\n",
    "}\n",
    "\n",
    "# build model\n",
    "model = HardSegmenter(hparams)\n",
    "model.to(device)\n",
    "print(model)"
   ]
  },
  {
   "cell_type": "markdown",
   "metadata": {},
   "source": [
    "### train model"
   ]
  },
  {
   "cell_type": "code",
   "execution_count": null,
   "metadata": {},
   "outputs": [],
   "source": [
    "# define training params\n",
    "train_kwargs = {\n",
    "    'learning_rate': 1e-4,  # adam learning rate\n",
    "    'l2_reg': 0,  # general l2 reg on parameters\n",
    "    'min_epochs': 1,  # minimum number of training epochs\n",
    "    'max_epochs': 2,  # maximum number of training epochs\n",
    "    'val_check_interval': 1,  # requency with which to log performance on val data\n",
    "    'rng_seed_train': 0,  # control order in which data are served to model\n",
    "    'enable_early_stop': False,  # True to use early stopping; False will use max_epochs\n",
    "    'early_stop_history': 10,  # epochs over which to average early stopping metric\n",
    "    'save_last_model': True,  # true to save out last (as well as best) model\n",
    "}\n",
    "\n",
    "# fit model!\n",
    "model.fit(data_gen, save_path='/media/mattw/fly/behavior/daart-demo', **train_kwargs)"
   ]
  }
 ],
 "metadata": {
  "kernelspec": {
   "display_name": "daart",
   "language": "python",
   "name": "daart"
  },
  "language_info": {
   "codemirror_mode": {
    "name": "ipython",
    "version": 3
   },
   "file_extension": ".py",
   "mimetype": "text/x-python",
   "name": "python",
   "nbconvert_exporter": "python",
   "pygments_lexer": "ipython3",
   "version": "3.6.12"
  }
 },
 "nbformat": 4,
 "nbformat_minor": 2
}
