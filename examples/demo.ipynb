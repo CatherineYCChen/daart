{
 "cells": [
  {
   "cell_type": "code",
   "execution_count": null,
   "metadata": {},
   "outputs": [],
   "source": [
    "import matplotlib.pyplot as plt\n",
    "import numpy as np\n",
    "import os\n",
    "\n",
    "from daart.data import DataGenerator\n",
    "from daart.eval import get_precision_recall\n",
    "from daart.models import HardSegmenter\n",
    "from daart.transforms import ZScore"
   ]
  },
  {
   "cell_type": "markdown",
   "metadata": {},
   "source": [
    "### define data paths"
   ]
  },
  {
   "cell_type": "code",
   "execution_count": null,
   "metadata": {},
   "outputs": [],
   "source": [
    "expt_id = '2019_06_26_fly2'\n",
    "\n",
    "base_dir = '/media/mattw/fly/behavior'\n",
    "# DLC markers\n",
    "markers_file = os.path.join(base_dir, 'labels', expt_id + '_labeled.h5')\n",
    "# heuristic labels\n",
    "labels_file = os.path.join(\n",
    "    base_dir, 'segmentation', 'states-v3', expt_id + '_beh-states-heuristic.pkl')\n",
    "# hand labels\n",
    "hand_labels_file = os.path.join(\n",
    "    base_dir, 'labels_deepethogram', 'DATA', expt_id, expt_id + '_labels.csv')\n",
    "# where model results will be saved\n",
    "model_save_path = '/media/mattw/fly/behavior/daart-demo'"
   ]
  },
  {
   "cell_type": "markdown",
   "metadata": {},
   "source": [
    "### build data generator"
   ]
  },
  {
   "cell_type": "code",
   "execution_count": null,
   "metadata": {},
   "outputs": [],
   "source": [
    "# define data generator signals\n",
    "signals = ['markers', 'labels']\n",
    "transforms = [ZScore(), None]\n",
    "paths = [markers_file, labels_file]\n",
    "device = 'cuda'  # 'cpu' | 'cuda'\n",
    "\n",
    "trial_splits = {\n",
    "    'train_tr': 9,\n",
    "    'val_tr': 1,\n",
    "    'test_tr': 0,\n",
    "    'gap_tr': 0\n",
    "}\n",
    "\n",
    "# build data generator\n",
    "data_gen = DataGenerator(\n",
    "    [expt_id], [signals], [transforms], [paths], device=device, batch_size=500, \n",
    "    trial_splits=trial_splits)\n",
    "print(data_gen)"
   ]
  },
  {
   "cell_type": "code",
   "execution_count": null,
   "metadata": {},
   "outputs": [],
   "source": [
    "# see what data generator returns\n",
    "data, dataset = data_gen.next_batch('train')\n",
    "print(data['batch_idx'])\n",
    "print(data['markers'].shape)\n",
    "print(data['labels'].shape)"
   ]
  },
  {
   "cell_type": "markdown",
   "metadata": {},
   "source": [
    "### build model"
   ]
  },
  {
   "cell_type": "code",
   "execution_count": null,
   "metadata": {},
   "outputs": [],
   "source": [
    "# define model params\n",
    "hparams = {\n",
    "    'model_type': 'temporal-mlp',\n",
    "    'input_size': 16,  # dimensionality of markers\n",
    "    'output_size': 5,  # number of classes\n",
    "    'n_hid_layers': 1,  # hidden layers in network\n",
    "    'n_hid_units': 32,  # hidden units per hidden layer\n",
    "    'n_lags': 16,  # width of temporal convolution window\n",
    "    'activation': 'relu',  # layer nonlinearity\n",
    "}\n",
    "\n",
    "# build model\n",
    "model = HardSegmenter(hparams)\n",
    "model.to(device)\n",
    "print(model)"
   ]
  },
  {
   "cell_type": "markdown",
   "metadata": {},
   "source": [
    "### train model"
   ]
  },
  {
   "cell_type": "code",
   "execution_count": null,
   "metadata": {
    "scrolled": true
   },
   "outputs": [],
   "source": [
    "# define training params\n",
    "train_kwargs = {\n",
    "    'learning_rate': 1e-4,  # adam learning rate\n",
    "    'l2_reg': 0,  # general l2 reg on parameters\n",
    "    'min_epochs': 1,  # minimum number of training epochs\n",
    "    'max_epochs': 100,  # maximum number of training epochs\n",
    "    'val_check_interval': 1,  # requency with which to log performance on val data\n",
    "    'rng_seed_train': 0,  # control order in which data are served to model\n",
    "    'enable_early_stop': False,  # True to use early stopping; False will use max_epochs\n",
    "    'early_stop_history': 10,  # epochs over which to average early stopping metric\n",
    "    'save_last_model': True,  # true to save out last (as well as best) model\n",
    "}\n",
    "\n",
    "# fit model!\n",
    "model.fit(data_gen, save_path=model_save_path, **train_kwargs)\n",
    "\n",
    "# save training curves\n",
    "plot_training_curves(\n",
    "    os.path.join(model_save_path, 'metrics.csv'), dtype='train', \n",
    "    save_file=os.path.join(model_save_path, 'train_curves'), format='png')\n",
    "plot_training_curves(\n",
    "    os.path.join(model_save_path, 'metrics.csv'), dtype='val', \n",
    "    save_file=os.path.join(model_save_path, 'val_curves'), format='png')"
   ]
  },
  {
   "cell_type": "markdown",
   "metadata": {},
   "source": [
    "### evaluate model"
   ]
  },
  {
   "cell_type": "code",
   "execution_count": null,
   "metadata": {},
   "outputs": [],
   "source": [
    "# load hand labels\n",
    "from numpy import genfromtxt\n",
    "labels = genfromtxt(hand_labels_file, delimiter=',', dtype=np.int, encoding=None)\n",
    "labels = labels[1:, 1:]  # get rid of headers, etc.\n",
    "states = np.argmax(labels, axis=1)\n",
    "\n",
    "# get model predictions for each time point\n",
    "predictions = model.predict_labels(data_gen)['predictions']\n",
    "\n",
    "# compute precision and recall for each behavior type\n",
    "scores = get_precision_recall(\n",
    "    states, np.argmax(np.vstack(predictions[0]), axis=1), background=0)"
   ]
  },
  {
   "cell_type": "markdown",
   "metadata": {},
   "source": [
    "### plot results"
   ]
  },
  {
   "cell_type": "code",
   "execution_count": null,
   "metadata": {},
   "outputs": [],
   "source": [
    "class_names = ['still', 'walk', 'front-groom', 'back-groom']\n",
    "n_classes = len(class_names)\n",
    "\n",
    "# get rid of background class\n",
    "precision = scores['precision'][1:]\n",
    "recall = scores['recall'][1:]\n",
    "\n",
    "fig, axes = plt.subplots(1, 2, figsize=(6, 3))\n",
    "\n",
    "axes[0].bar(np.arange(n_classes), precision)\n",
    "axes[0].set_xticks(np.arange(n_classes))\n",
    "axes[0].set_xticklabels(class_names, rotation=45, ha='right')\n",
    "axes[0].set_title('Precision')\n",
    "\n",
    "axes[1].bar(np.arange(n_classes), precision)\n",
    "axes[1].set_xticks(np.arange(n_classes))\n",
    "axes[1].set_xticklabels(class_names, rotation=45, ha='right')\n",
    "axes[1].set_title('Recall')\n",
    "\n",
    "plt.tight_layout()\n",
    "plt.show()"
   ]
  }
 ],
 "metadata": {
  "kernelspec": {
   "display_name": "daart",
   "language": "python",
   "name": "daart"
  },
  "language_info": {
   "codemirror_mode": {
    "name": "ipython",
    "version": 3
   },
   "file_extension": ".py",
   "mimetype": "text/x-python",
   "name": "python",
   "nbconvert_exporter": "python",
   "pygments_lexer": "ipython3",
   "version": "3.6.12"
  }
 },
 "nbformat": 4,
 "nbformat_minor": 2
}
