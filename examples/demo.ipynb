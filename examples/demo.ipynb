{
 "cells": [
  {
   "cell_type": "code",
   "execution_count": 1,
   "metadata": {},
   "outputs": [],
   "source": [
    "import matplotlib.pyplot as plt\n",
    "import numpy as np\n",
    "import os\n",
    "\n",
    "from daart.data import DataGenerator\n",
    "from daart.eval import get_precision_recall\n",
    "from daart.models import HardSegmenter\n",
    "from daart.transforms import ZScore"
   ]
  },
  {
   "cell_type": "markdown",
   "metadata": {},
   "source": [
    "### define data paths"
   ]
  },
  {
   "cell_type": "code",
   "execution_count": 2,
   "metadata": {},
   "outputs": [],
   "source": [
    "expt_id = '2019_06_26_fly2'\n",
    "\n",
    "base_dir = '/media/mattw/fly/behavior'\n",
    "# DLC markers\n",
    "markers_file = os.path.join(base_dir, 'labels', expt_id + '_labeled.h5')\n",
    "# heuristic labels\n",
    "labels_file = os.path.join(\n",
    "    base_dir, 'segmentation', 'states-v3', expt_id + '_beh-states-heuristic.pkl')\n",
    "# hand labels\n",
    "hand_labels_file = os.path.join(\n",
    "    base_dir, 'labels_deepethogram', 'DATA', expt_id, expt_id + '_labels.csv')\n",
    "# where model results will be saved\n",
    "model_save_path = '/media/mattw/fly/behavior/daart-demo'"
   ]
  },
  {
   "cell_type": "markdown",
   "metadata": {},
   "source": [
    "### build data generator"
   ]
  },
  {
   "cell_type": "code",
   "execution_count": 3,
   "metadata": {},
   "outputs": [
    {
     "name": "stdout",
     "output_type": "stream",
     "text": [
      "Generator contains 1 SingleDataset objects:\n",
      "2019_06_26_fly2\n",
      "    signals: ['markers', 'labels']\n",
      "    transforms: OrderedDict([('markers', ZScore()), ('labels', None)])\n",
      "    paths: OrderedDict([('markers', '/media/mattw/fly/behavior/labels/2019_06_26_fly2_labeled.h5'), ('labels', '/media/mattw/fly/behavior/segmentation/states-v3/2019_06_26_fly2_beh-states-heuristic.pkl')])\n",
      "\n"
     ]
    }
   ],
   "source": [
    "# define data generator signals\n",
    "signals = ['markers', 'labels']\n",
    "transforms = [ZScore(), None]\n",
    "paths = [markers_file, labels_file]\n",
    "device = 'cuda'  # 'cpu' | 'cuda'\n",
    "\n",
    "trial_splits = {\n",
    "    'train_tr': 9,\n",
    "    'val_tr': 1,\n",
    "    'test_tr': 0,\n",
    "    'gap_tr': 0\n",
    "}\n",
    "\n",
    "# build data generator\n",
    "data_gen = DataGenerator(\n",
    "    [expt_id], [signals], [transforms], [paths], device=device, batch_size=500, \n",
    "    trial_splits=trial_splits)\n",
    "print(data_gen)"
   ]
  },
  {
   "cell_type": "code",
   "execution_count": 4,
   "metadata": {},
   "outputs": [
    {
     "name": "stdout",
     "output_type": "stream",
     "text": [
      "tensor([1], device='cuda:0')\n",
      "torch.Size([1, 500, 16])\n",
      "torch.Size([1, 500])\n"
     ]
    }
   ],
   "source": [
    "# see what data generator returns\n",
    "data, dataset = data_gen.next_batch('train')\n",
    "print(data['batch_idx'])\n",
    "print(data['markers'].shape)\n",
    "print(data['labels'].shape)"
   ]
  },
  {
   "cell_type": "markdown",
   "metadata": {},
   "source": [
    "### build model"
   ]
  },
  {
   "cell_type": "code",
   "execution_count": 5,
   "metadata": {},
   "outputs": [
    {
     "name": "stdout",
     "output_type": "stream",
     "text": [
      "\n",
      "TemporalMLP architecture\n",
      "------------------------\n",
      "    0: Conv1d(16, 32, kernel_size=(33,), stride=(1,), padding=(16,))\n",
      "    1: ReLU()\n",
      "    2: Linear(in_features=32, out_features=5, bias=True)\n",
      "\n"
     ]
    }
   ],
   "source": [
    "# define model params\n",
    "hparams = {\n",
    "    'model_type': 'temporal-mlp',\n",
    "    'input_size': 16,  # dimensionality of markers\n",
    "    'output_size': 5,  # number of classes\n",
    "    'n_hid_layers': 1,  # hidden layers in network\n",
    "    'n_hid_units': 32,  # hidden units per hidden layer\n",
    "    'n_lags': 16,  # width of temporal convolution window\n",
    "    'activation': 'relu',  # layer nonlinearity\n",
    "}\n",
    "\n",
    "# build model\n",
    "model = HardSegmenter(hparams)\n",
    "model.to(device)\n",
    "print(model)"
   ]
  },
  {
   "cell_type": "markdown",
   "metadata": {},
   "source": [
    "### train model"
   ]
  },
  {
   "cell_type": "code",
   "execution_count": 6,
   "metadata": {
    "scrolled": true
   },
   "outputs": [
    {
     "name": "stderr",
     "output_type": "stream",
     "text": [
      " 73%|███████▎  | 59/81 [00:00<00:00, 578.74it/s]"
     ]
    },
    {
     "name": "stdout",
     "output_type": "stream",
     "text": [
      "epoch 000/100\n"
     ]
    },
    {
     "name": "stderr",
     "output_type": "stream",
     "text": [
      "100%|██████████| 81/81 [00:00<00:00, 469.26it/s]\n",
      "  0%|          | 0/81 [00:00<?, ?it/s]"
     ]
    },
    {
     "name": "stdout",
     "output_type": "stream",
     "text": [
      "epoch 001/100\n"
     ]
    },
    {
     "name": "stderr",
     "output_type": "stream",
     "text": [
      "100%|██████████| 81/81 [00:00<00:00, 318.34it/s]\n",
      " 52%|█████▏    | 42/81 [00:00<00:00, 414.55it/s]"
     ]
    },
    {
     "name": "stdout",
     "output_type": "stream",
     "text": [
      "epoch 002/100\n"
     ]
    },
    {
     "name": "stderr",
     "output_type": "stream",
     "text": [
      "100%|██████████| 81/81 [00:00<00:00, 388.40it/s]\n",
      " 48%|████▊     | 39/81 [00:00<00:00, 385.15it/s]"
     ]
    },
    {
     "name": "stdout",
     "output_type": "stream",
     "text": [
      "epoch 003/100\n"
     ]
    },
    {
     "name": "stderr",
     "output_type": "stream",
     "text": [
      "100%|██████████| 81/81 [00:00<00:00, 312.54it/s]\n",
      " 64%|██████▍   | 52/81 [00:00<00:00, 516.03it/s]"
     ]
    },
    {
     "name": "stdout",
     "output_type": "stream",
     "text": [
      "epoch 004/100\n"
     ]
    },
    {
     "name": "stderr",
     "output_type": "stream",
     "text": [
      "100%|██████████| 81/81 [00:00<00:00, 403.01it/s]\n",
      " 40%|███▉      | 32/81 [00:00<00:00, 316.64it/s]"
     ]
    },
    {
     "name": "stdout",
     "output_type": "stream",
     "text": [
      "epoch 005/100\n"
     ]
    },
    {
     "name": "stderr",
     "output_type": "stream",
     "text": [
      "100%|██████████| 81/81 [00:00<00:00, 308.17it/s]\n",
      "100%|██████████| 81/81 [00:00<00:00, 485.71it/s]\n",
      "  0%|          | 0/81 [00:00<?, ?it/s]"
     ]
    },
    {
     "name": "stdout",
     "output_type": "stream",
     "text": [
      "epoch 006/100\n",
      "epoch 007/100\n"
     ]
    },
    {
     "name": "stderr",
     "output_type": "stream",
     "text": [
      "100%|██████████| 81/81 [00:00<00:00, 356.85it/s]\n",
      " 38%|███▊      | 31/81 [00:00<00:00, 305.46it/s]"
     ]
    },
    {
     "name": "stdout",
     "output_type": "stream",
     "text": [
      "epoch 008/100\n"
     ]
    },
    {
     "name": "stderr",
     "output_type": "stream",
     "text": [
      "100%|██████████| 81/81 [00:00<00:00, 330.94it/s]\n",
      "100%|██████████| 81/81 [00:00<00:00, 408.95it/s]"
     ]
    },
    {
     "name": "stdout",
     "output_type": "stream",
     "text": [
      "epoch 009/100\n"
     ]
    },
    {
     "name": "stderr",
     "output_type": "stream",
     "text": [
      "\n",
      "100%|██████████| 81/81 [00:00<00:00, 436.33it/s]\n",
      "  0%|          | 0/81 [00:00<?, ?it/s]"
     ]
    },
    {
     "name": "stdout",
     "output_type": "stream",
     "text": [
      "epoch 010/100\n",
      "epoch 011/100\n"
     ]
    },
    {
     "name": "stderr",
     "output_type": "stream",
     "text": [
      "100%|██████████| 81/81 [00:00<00:00, 309.24it/s]\n",
      " 43%|████▎     | 35/81 [00:00<00:00, 349.55it/s]"
     ]
    },
    {
     "name": "stdout",
     "output_type": "stream",
     "text": [
      "epoch 012/100\n"
     ]
    },
    {
     "name": "stderr",
     "output_type": "stream",
     "text": [
      "100%|██████████| 81/81 [00:00<00:00, 355.38it/s]\n",
      " 51%|█████     | 41/81 [00:00<00:00, 407.14it/s]"
     ]
    },
    {
     "name": "stdout",
     "output_type": "stream",
     "text": [
      "epoch 013/100\n"
     ]
    },
    {
     "name": "stderr",
     "output_type": "stream",
     "text": [
      "100%|██████████| 81/81 [00:00<00:00, 368.55it/s]\n",
      "100%|██████████| 81/81 [00:00<00:00, 444.66it/s]\n",
      "  0%|          | 0/81 [00:00<?, ?it/s]"
     ]
    },
    {
     "name": "stdout",
     "output_type": "stream",
     "text": [
      "epoch 014/100\n",
      "epoch 015/100\n"
     ]
    },
    {
     "name": "stderr",
     "output_type": "stream",
     "text": [
      "100%|██████████| 81/81 [00:00<00:00, 438.59it/s]\n",
      " 40%|███▉      | 32/81 [00:00<00:00, 315.10it/s]"
     ]
    },
    {
     "name": "stdout",
     "output_type": "stream",
     "text": [
      "epoch 016/100\n"
     ]
    },
    {
     "name": "stderr",
     "output_type": "stream",
     "text": [
      "100%|██████████| 81/81 [00:00<00:00, 365.55it/s]\n",
      " 47%|████▋     | 38/81 [00:00<00:00, 375.63it/s]"
     ]
    },
    {
     "name": "stdout",
     "output_type": "stream",
     "text": [
      "epoch 017/100\n"
     ]
    },
    {
     "name": "stderr",
     "output_type": "stream",
     "text": [
      "100%|██████████| 81/81 [00:00<00:00, 391.40it/s]\n",
      "100%|██████████| 81/81 [00:00<00:00, 410.51it/s]"
     ]
    },
    {
     "name": "stdout",
     "output_type": "stream",
     "text": [
      "epoch 018/100\n"
     ]
    },
    {
     "name": "stderr",
     "output_type": "stream",
     "text": [
      "\n",
      " 44%|████▍     | 36/81 [00:00<00:00, 354.86it/s]"
     ]
    },
    {
     "name": "stdout",
     "output_type": "stream",
     "text": [
      "epoch 019/100\n"
     ]
    },
    {
     "name": "stderr",
     "output_type": "stream",
     "text": [
      "100%|██████████| 81/81 [00:00<00:00, 388.47it/s]\n",
      "100%|██████████| 81/81 [00:00<00:00, 487.47it/s]\n",
      "  0%|          | 0/81 [00:00<?, ?it/s]"
     ]
    },
    {
     "name": "stdout",
     "output_type": "stream",
     "text": [
      "epoch 020/100\n",
      "epoch 021/100\n"
     ]
    },
    {
     "name": "stderr",
     "output_type": "stream",
     "text": [
      "100%|██████████| 81/81 [00:00<00:00, 482.44it/s]\n",
      "100%|██████████| 81/81 [00:00<00:00, 464.08it/s]\n",
      "  0%|          | 0/81 [00:00<?, ?it/s]"
     ]
    },
    {
     "name": "stdout",
     "output_type": "stream",
     "text": [
      "epoch 022/100\n",
      "epoch 023/100\n"
     ]
    },
    {
     "name": "stderr",
     "output_type": "stream",
     "text": [
      "100%|██████████| 81/81 [00:00<00:00, 463.68it/s]\n",
      " 42%|████▏     | 34/81 [00:00<00:00, 335.48it/s]"
     ]
    },
    {
     "name": "stdout",
     "output_type": "stream",
     "text": [
      "epoch 024/100\n"
     ]
    },
    {
     "name": "stderr",
     "output_type": "stream",
     "text": [
      "100%|██████████| 81/81 [00:00<00:00, 340.41it/s]\n",
      " 37%|███▋      | 30/81 [00:00<00:00, 290.63it/s]"
     ]
    },
    {
     "name": "stdout",
     "output_type": "stream",
     "text": [
      "epoch 025/100\n"
     ]
    },
    {
     "name": "stderr",
     "output_type": "stream",
     "text": [
      "100%|██████████| 81/81 [00:00<00:00, 350.59it/s]\n",
      " 43%|████▎     | 35/81 [00:00<00:00, 343.06it/s]"
     ]
    },
    {
     "name": "stdout",
     "output_type": "stream",
     "text": [
      "epoch 026/100\n"
     ]
    },
    {
     "name": "stderr",
     "output_type": "stream",
     "text": [
      "100%|██████████| 81/81 [00:00<00:00, 388.10it/s]\n",
      "100%|██████████| 81/81 [00:00<00:00, 417.58it/s]\n",
      "  0%|          | 0/81 [00:00<?, ?it/s]"
     ]
    },
    {
     "name": "stdout",
     "output_type": "stream",
     "text": [
      "epoch 027/100\n",
      "epoch 028/100\n"
     ]
    },
    {
     "name": "stderr",
     "output_type": "stream",
     "text": [
      "100%|██████████| 81/81 [00:00<00:00, 570.00it/s]\n",
      " 52%|█████▏    | 42/81 [00:00<00:00, 412.40it/s]"
     ]
    },
    {
     "name": "stdout",
     "output_type": "stream",
     "text": [
      "epoch 029/100\n"
     ]
    },
    {
     "name": "stderr",
     "output_type": "stream",
     "text": [
      "100%|██████████| 81/81 [00:00<00:00, 312.40it/s]\n",
      " 31%|███       | 25/81 [00:00<00:00, 245.95it/s]"
     ]
    },
    {
     "name": "stdout",
     "output_type": "stream",
     "text": [
      "epoch 030/100\n"
     ]
    },
    {
     "name": "stderr",
     "output_type": "stream",
     "text": [
      "100%|██████████| 81/81 [00:00<00:00, 223.86it/s]\n",
      " 48%|████▊     | 39/81 [00:00<00:00, 389.38it/s]"
     ]
    },
    {
     "name": "stdout",
     "output_type": "stream",
     "text": [
      "epoch 031/100\n"
     ]
    },
    {
     "name": "stderr",
     "output_type": "stream",
     "text": [
      "100%|██████████| 81/81 [00:00<00:00, 364.09it/s]\n",
      " 51%|█████     | 41/81 [00:00<00:00, 406.49it/s]"
     ]
    },
    {
     "name": "stdout",
     "output_type": "stream",
     "text": [
      "epoch 032/100\n"
     ]
    },
    {
     "name": "stderr",
     "output_type": "stream",
     "text": [
      "100%|██████████| 81/81 [00:00<00:00, 348.21it/s]\n",
      " 48%|████▊     | 39/81 [00:00<00:00, 381.01it/s]"
     ]
    },
    {
     "name": "stdout",
     "output_type": "stream",
     "text": [
      "epoch 033/100\n"
     ]
    },
    {
     "name": "stderr",
     "output_type": "stream",
     "text": [
      "100%|██████████| 81/81 [00:00<00:00, 371.07it/s]\n",
      " 44%|████▍     | 36/81 [00:00<00:00, 351.11it/s]"
     ]
    },
    {
     "name": "stdout",
     "output_type": "stream",
     "text": [
      "epoch 034/100\n"
     ]
    },
    {
     "name": "stderr",
     "output_type": "stream",
     "text": [
      "100%|██████████| 81/81 [00:00<00:00, 341.83it/s]\n",
      "100%|██████████| 81/81 [00:00<00:00, 419.81it/s]\n"
     ]
    },
    {
     "name": "stdout",
     "output_type": "stream",
     "text": [
      "epoch 035/100\n",
      "epoch 036/100\n"
     ]
    },
    {
     "name": "stderr",
     "output_type": "stream",
     "text": [
      "100%|██████████| 81/81 [00:00<00:00, 278.26it/s]\n",
      " 42%|████▏     | 34/81 [00:00<00:00, 339.17it/s]"
     ]
    },
    {
     "name": "stdout",
     "output_type": "stream",
     "text": [
      "epoch 037/100\n"
     ]
    },
    {
     "name": "stderr",
     "output_type": "stream",
     "text": [
      "100%|██████████| 81/81 [00:00<00:00, 350.21it/s]\n",
      " 49%|████▉     | 40/81 [00:00<00:00, 398.00it/s]"
     ]
    },
    {
     "name": "stdout",
     "output_type": "stream",
     "text": [
      "epoch 038/100\n"
     ]
    },
    {
     "name": "stderr",
     "output_type": "stream",
     "text": [
      "100%|██████████| 81/81 [00:00<00:00, 401.75it/s]\n",
      "100%|██████████| 81/81 [00:00<00:00, 469.57it/s]\n",
      "  0%|          | 0/81 [00:00<?, ?it/s]"
     ]
    },
    {
     "name": "stdout",
     "output_type": "stream",
     "text": [
      "epoch 039/100\n",
      "epoch 040/100\n"
     ]
    },
    {
     "name": "stderr",
     "output_type": "stream",
     "text": [
      "100%|██████████| 81/81 [00:00<00:00, 346.96it/s]\n",
      " 44%|████▍     | 36/81 [00:00<00:00, 355.12it/s]"
     ]
    },
    {
     "name": "stdout",
     "output_type": "stream",
     "text": [
      "epoch 041/100\n"
     ]
    },
    {
     "name": "stderr",
     "output_type": "stream",
     "text": [
      "100%|██████████| 81/81 [00:00<00:00, 315.93it/s]\n",
      "100%|██████████| 81/81 [00:00<00:00, 454.99it/s]\n",
      "  0%|          | 0/81 [00:00<?, ?it/s]"
     ]
    },
    {
     "name": "stdout",
     "output_type": "stream",
     "text": [
      "epoch 042/100\n",
      "epoch 043/100\n"
     ]
    },
    {
     "name": "stderr",
     "output_type": "stream",
     "text": [
      "100%|██████████| 81/81 [00:00<00:00, 602.61it/s]\n",
      "100%|██████████| 81/81 [00:00<00:00, 603.67it/s]\n",
      "  0%|          | 0/81 [00:00<?, ?it/s]"
     ]
    },
    {
     "name": "stdout",
     "output_type": "stream",
     "text": [
      "epoch 044/100\n",
      "epoch 045/100\n"
     ]
    },
    {
     "name": "stderr",
     "output_type": "stream",
     "text": [
      "100%|██████████| 81/81 [00:00<00:00, 330.60it/s]\n",
      " 58%|█████▊    | 47/81 [00:00<00:00, 466.02it/s]"
     ]
    },
    {
     "name": "stdout",
     "output_type": "stream",
     "text": [
      "epoch 046/100\n"
     ]
    },
    {
     "name": "stderr",
     "output_type": "stream",
     "text": [
      "100%|██████████| 81/81 [00:00<00:00, 366.98it/s]\n",
      " 58%|█████▊    | 47/81 [00:00<00:00, 467.55it/s]"
     ]
    },
    {
     "name": "stdout",
     "output_type": "stream",
     "text": [
      "epoch 047/100\n"
     ]
    },
    {
     "name": "stderr",
     "output_type": "stream",
     "text": [
      "100%|██████████| 81/81 [00:00<00:00, 340.73it/s]\n",
      " 43%|████▎     | 35/81 [00:00<00:00, 348.86it/s]"
     ]
    },
    {
     "name": "stdout",
     "output_type": "stream",
     "text": [
      "epoch 048/100\n"
     ]
    },
    {
     "name": "stderr",
     "output_type": "stream",
     "text": [
      "100%|██████████| 81/81 [00:00<00:00, 394.28it/s]\n",
      " 33%|███▎      | 27/81 [00:00<00:00, 266.28it/s]"
     ]
    },
    {
     "name": "stdout",
     "output_type": "stream",
     "text": [
      "epoch 049/100\n"
     ]
    },
    {
     "name": "stderr",
     "output_type": "stream",
     "text": [
      "100%|██████████| 81/81 [00:00<00:00, 297.43it/s]\n",
      " 44%|████▍     | 36/81 [00:00<00:00, 356.47it/s]"
     ]
    },
    {
     "name": "stdout",
     "output_type": "stream",
     "text": [
      "epoch 050/100\n"
     ]
    },
    {
     "name": "stderr",
     "output_type": "stream",
     "text": [
      "100%|██████████| 81/81 [00:00<00:00, 393.92it/s]\n",
      "100%|██████████| 81/81 [00:00<00:00, 423.08it/s]\n",
      "  0%|          | 0/81 [00:00<?, ?it/s]"
     ]
    },
    {
     "name": "stdout",
     "output_type": "stream",
     "text": [
      "epoch 051/100\n",
      "epoch 052/100\n"
     ]
    },
    {
     "name": "stderr",
     "output_type": "stream",
     "text": [
      "100%|██████████| 81/81 [00:00<00:00, 342.75it/s]\n",
      " 47%|████▋     | 38/81 [00:00<00:00, 378.71it/s]"
     ]
    },
    {
     "name": "stdout",
     "output_type": "stream",
     "text": [
      "epoch 053/100\n"
     ]
    },
    {
     "name": "stderr",
     "output_type": "stream",
     "text": [
      "100%|██████████| 81/81 [00:00<00:00, 363.63it/s]\n",
      "100%|██████████| 81/81 [00:00<00:00, 423.21it/s]\n",
      "  0%|          | 0/81 [00:00<?, ?it/s]"
     ]
    },
    {
     "name": "stdout",
     "output_type": "stream",
     "text": [
      "epoch 054/100\n",
      "epoch 055/100\n"
     ]
    },
    {
     "name": "stderr",
     "output_type": "stream",
     "text": [
      "100%|██████████| 81/81 [00:00<00:00, 411.92it/s]\n",
      " 36%|███▌      | 29/81 [00:00<00:00, 282.90it/s]"
     ]
    },
    {
     "name": "stdout",
     "output_type": "stream",
     "text": [
      "epoch 056/100\n"
     ]
    },
    {
     "name": "stderr",
     "output_type": "stream",
     "text": [
      "100%|██████████| 81/81 [00:00<00:00, 315.57it/s]\n",
      " 43%|████▎     | 35/81 [00:00<00:00, 348.25it/s]"
     ]
    },
    {
     "name": "stdout",
     "output_type": "stream",
     "text": [
      "epoch 057/100\n"
     ]
    },
    {
     "name": "stderr",
     "output_type": "stream",
     "text": [
      "100%|██████████| 81/81 [00:00<00:00, 388.59it/s]\n",
      "100%|██████████| 81/81 [00:00<00:00, 443.48it/s]\n",
      "  0%|          | 0/81 [00:00<?, ?it/s]"
     ]
    },
    {
     "name": "stdout",
     "output_type": "stream",
     "text": [
      "epoch 058/100\n",
      "epoch 059/100\n"
     ]
    },
    {
     "name": "stderr",
     "output_type": "stream",
     "text": [
      "100%|██████████| 81/81 [00:00<00:00, 420.52it/s]\n",
      " 62%|██████▏   | 50/81 [00:00<00:00, 490.36it/s]"
     ]
    },
    {
     "name": "stdout",
     "output_type": "stream",
     "text": [
      "epoch 060/100\n"
     ]
    },
    {
     "name": "stderr",
     "output_type": "stream",
     "text": [
      "100%|██████████| 81/81 [00:00<00:00, 370.42it/s]\n",
      " 51%|█████     | 41/81 [00:00<00:00, 406.87it/s]"
     ]
    },
    {
     "name": "stdout",
     "output_type": "stream",
     "text": [
      "epoch 061/100\n"
     ]
    },
    {
     "name": "stderr",
     "output_type": "stream",
     "text": [
      "100%|██████████| 81/81 [00:00<00:00, 356.48it/s]\n",
      "100%|██████████| 81/81 [00:00<00:00, 492.18it/s]\n",
      "  0%|          | 0/81 [00:00<?, ?it/s]"
     ]
    },
    {
     "name": "stdout",
     "output_type": "stream",
     "text": [
      "epoch 062/100\n",
      "epoch 063/100\n"
     ]
    },
    {
     "name": "stderr",
     "output_type": "stream",
     "text": [
      "100%|██████████| 81/81 [00:00<00:00, 546.90it/s]\n",
      " 51%|█████     | 41/81 [00:00<00:00, 409.89it/s]"
     ]
    },
    {
     "name": "stdout",
     "output_type": "stream",
     "text": [
      "epoch 064/100\n"
     ]
    },
    {
     "name": "stderr",
     "output_type": "stream",
     "text": [
      "100%|██████████| 81/81 [00:00<00:00, 361.36it/s]\n",
      " 62%|██████▏   | 50/81 [00:00<00:00, 498.16it/s]"
     ]
    },
    {
     "name": "stdout",
     "output_type": "stream",
     "text": [
      "epoch 065/100\n"
     ]
    },
    {
     "name": "stderr",
     "output_type": "stream",
     "text": [
      "100%|██████████| 81/81 [00:00<00:00, 390.80it/s]\n",
      " 52%|█████▏    | 42/81 [00:00<00:00, 415.78it/s]"
     ]
    },
    {
     "name": "stdout",
     "output_type": "stream",
     "text": [
      "epoch 066/100\n"
     ]
    },
    {
     "name": "stderr",
     "output_type": "stream",
     "text": [
      "100%|██████████| 81/81 [00:00<00:00, 377.66it/s]\n",
      " 51%|█████     | 41/81 [00:00<00:00, 403.64it/s]"
     ]
    },
    {
     "name": "stdout",
     "output_type": "stream",
     "text": [
      "epoch 067/100\n"
     ]
    },
    {
     "name": "stderr",
     "output_type": "stream",
     "text": [
      "100%|██████████| 81/81 [00:00<00:00, 371.87it/s]\n",
      "100%|██████████| 81/81 [00:00<00:00, 410.40it/s]"
     ]
    },
    {
     "name": "stdout",
     "output_type": "stream",
     "text": [
      "epoch 068/100\n"
     ]
    },
    {
     "name": "stderr",
     "output_type": "stream",
     "text": [
      "\n",
      " 44%|████▍     | 36/81 [00:00<00:00, 357.48it/s]"
     ]
    },
    {
     "name": "stdout",
     "output_type": "stream",
     "text": [
      "epoch 069/100\n"
     ]
    },
    {
     "name": "stderr",
     "output_type": "stream",
     "text": [
      "100%|██████████| 81/81 [00:00<00:00, 314.27it/s]\n",
      " 44%|████▍     | 36/81 [00:00<00:00, 359.81it/s]"
     ]
    },
    {
     "name": "stdout",
     "output_type": "stream",
     "text": [
      "epoch 070/100\n"
     ]
    },
    {
     "name": "stderr",
     "output_type": "stream",
     "text": [
      "100%|██████████| 81/81 [00:00<00:00, 374.27it/s]\n",
      " 62%|██████▏   | 50/81 [00:00<00:00, 490.71it/s]"
     ]
    },
    {
     "name": "stdout",
     "output_type": "stream",
     "text": [
      "epoch 071/100\n"
     ]
    },
    {
     "name": "stderr",
     "output_type": "stream",
     "text": [
      "100%|██████████| 81/81 [00:00<00:00, 378.51it/s]\n",
      " 35%|███▍      | 28/81 [00:00<00:00, 274.57it/s]"
     ]
    },
    {
     "name": "stdout",
     "output_type": "stream",
     "text": [
      "epoch 072/100\n"
     ]
    },
    {
     "name": "stderr",
     "output_type": "stream",
     "text": [
      "100%|██████████| 81/81 [00:00<00:00, 290.06it/s]\n",
      "100%|██████████| 81/81 [00:00<00:00, 509.92it/s]\n",
      "  0%|          | 0/81 [00:00<?, ?it/s]"
     ]
    },
    {
     "name": "stdout",
     "output_type": "stream",
     "text": [
      "epoch 073/100\n",
      "epoch 074/100\n"
     ]
    },
    {
     "name": "stderr",
     "output_type": "stream",
     "text": [
      "100%|██████████| 81/81 [00:00<00:00, 322.60it/s]\n",
      " 49%|████▉     | 40/81 [00:00<00:00, 397.29it/s]"
     ]
    },
    {
     "name": "stdout",
     "output_type": "stream",
     "text": [
      "epoch 075/100\n"
     ]
    },
    {
     "name": "stderr",
     "output_type": "stream",
     "text": [
      "100%|██████████| 81/81 [00:00<00:00, 332.11it/s]\n",
      " 46%|████▌     | 37/81 [00:00<00:00, 362.54it/s]"
     ]
    },
    {
     "name": "stdout",
     "output_type": "stream",
     "text": [
      "epoch 076/100\n"
     ]
    },
    {
     "name": "stderr",
     "output_type": "stream",
     "text": [
      "100%|██████████| 81/81 [00:00<00:00, 371.12it/s]\n",
      " 41%|████      | 33/81 [00:00<00:00, 329.41it/s]"
     ]
    },
    {
     "name": "stdout",
     "output_type": "stream",
     "text": [
      "epoch 077/100\n"
     ]
    },
    {
     "name": "stderr",
     "output_type": "stream",
     "text": [
      "100%|██████████| 81/81 [00:00<00:00, 372.35it/s]\n",
      "100%|██████████| 81/81 [00:00<00:00, 557.93it/s]\n",
      "  0%|          | 0/81 [00:00<?, ?it/s]"
     ]
    },
    {
     "name": "stdout",
     "output_type": "stream",
     "text": [
      "epoch 078/100\n",
      "epoch 079/100\n"
     ]
    },
    {
     "name": "stderr",
     "output_type": "stream",
     "text": [
      "100%|██████████| 81/81 [00:00<00:00, 434.82it/s]\n",
      " 54%|█████▍    | 44/81 [00:00<00:00, 432.59it/s]"
     ]
    },
    {
     "name": "stdout",
     "output_type": "stream",
     "text": [
      "epoch 080/100\n"
     ]
    },
    {
     "name": "stderr",
     "output_type": "stream",
     "text": [
      "100%|██████████| 81/81 [00:00<00:00, 358.51it/s]\n",
      " 38%|███▊      | 31/81 [00:00<00:00, 301.52it/s]"
     ]
    },
    {
     "name": "stdout",
     "output_type": "stream",
     "text": [
      "epoch 081/100\n"
     ]
    },
    {
     "name": "stderr",
     "output_type": "stream",
     "text": [
      "100%|██████████| 81/81 [00:00<00:00, 383.05it/s]\n",
      "100%|██████████| 81/81 [00:00<00:00, 437.50it/s]\n",
      "  0%|          | 0/81 [00:00<?, ?it/s]"
     ]
    },
    {
     "name": "stdout",
     "output_type": "stream",
     "text": [
      "epoch 082/100\n",
      "epoch 083/100\n"
     ]
    },
    {
     "name": "stderr",
     "output_type": "stream",
     "text": [
      "100%|██████████| 81/81 [00:00<00:00, 317.87it/s]\n",
      "100%|██████████| 81/81 [00:00<00:00, 406.80it/s]"
     ]
    },
    {
     "name": "stdout",
     "output_type": "stream",
     "text": [
      "epoch 084/100\n"
     ]
    },
    {
     "name": "stderr",
     "output_type": "stream",
     "text": [
      "\n",
      " 51%|█████     | 41/81 [00:00<00:00, 404.79it/s]"
     ]
    },
    {
     "name": "stdout",
     "output_type": "stream",
     "text": [
      "epoch 085/100\n"
     ]
    },
    {
     "name": "stderr",
     "output_type": "stream",
     "text": [
      "100%|██████████| 81/81 [00:00<00:00, 335.89it/s]\n",
      " 54%|█████▍    | 44/81 [00:00<00:00, 433.40it/s]"
     ]
    },
    {
     "name": "stdout",
     "output_type": "stream",
     "text": [
      "epoch 086/100\n"
     ]
    },
    {
     "name": "stderr",
     "output_type": "stream",
     "text": [
      "100%|██████████| 81/81 [00:00<00:00, 382.87it/s]\n",
      "100%|██████████| 81/81 [00:00<00:00, 467.04it/s]\n",
      "  0%|          | 0/81 [00:00<?, ?it/s]"
     ]
    },
    {
     "name": "stdout",
     "output_type": "stream",
     "text": [
      "epoch 087/100\n",
      "epoch 088/100\n"
     ]
    },
    {
     "name": "stderr",
     "output_type": "stream",
     "text": [
      "100%|██████████| 81/81 [00:00<00:00, 382.25it/s]\n",
      "100%|██████████| 81/81 [00:00<00:00, 486.03it/s]\n",
      "  0%|          | 0/81 [00:00<?, ?it/s]"
     ]
    },
    {
     "name": "stdout",
     "output_type": "stream",
     "text": [
      "epoch 089/100\n",
      "epoch 090/100\n"
     ]
    },
    {
     "name": "stderr",
     "output_type": "stream",
     "text": [
      "100%|██████████| 81/81 [00:00<00:00, 480.64it/s]\n",
      "100%|██████████| 81/81 [00:00<00:00, 519.38it/s]\n",
      "  0%|          | 0/81 [00:00<?, ?it/s]"
     ]
    },
    {
     "name": "stdout",
     "output_type": "stream",
     "text": [
      "epoch 091/100\n",
      "epoch 092/100\n"
     ]
    },
    {
     "name": "stderr",
     "output_type": "stream",
     "text": [
      "100%|██████████| 81/81 [00:00<00:00, 559.06it/s]\n",
      " 62%|██████▏   | 50/81 [00:00<00:00, 499.34it/s]"
     ]
    },
    {
     "name": "stdout",
     "output_type": "stream",
     "text": [
      "epoch 093/100\n"
     ]
    },
    {
     "name": "stderr",
     "output_type": "stream",
     "text": [
      "100%|██████████| 81/81 [00:00<00:00, 364.27it/s]\n",
      " 41%|████      | 33/81 [00:00<00:00, 326.36it/s]"
     ]
    },
    {
     "name": "stdout",
     "output_type": "stream",
     "text": [
      "epoch 094/100\n"
     ]
    },
    {
     "name": "stderr",
     "output_type": "stream",
     "text": [
      "100%|██████████| 81/81 [00:00<00:00, 357.15it/s]\n",
      "100%|██████████| 81/81 [00:00<00:00, 468.16it/s]\n",
      "  0%|          | 0/81 [00:00<?, ?it/s]"
     ]
    },
    {
     "name": "stdout",
     "output_type": "stream",
     "text": [
      "epoch 095/100\n",
      "epoch 096/100\n"
     ]
    },
    {
     "name": "stderr",
     "output_type": "stream",
     "text": [
      "100%|██████████| 81/81 [00:00<00:00, 448.72it/s]\n",
      " 48%|████▊     | 39/81 [00:00<00:00, 382.64it/s]"
     ]
    },
    {
     "name": "stdout",
     "output_type": "stream",
     "text": [
      "epoch 097/100\n"
     ]
    },
    {
     "name": "stderr",
     "output_type": "stream",
     "text": [
      "100%|██████████| 81/81 [00:00<00:00, 373.29it/s]\n",
      " 52%|█████▏    | 42/81 [00:00<00:00, 413.42it/s]"
     ]
    },
    {
     "name": "stdout",
     "output_type": "stream",
     "text": [
      "epoch 098/100\n"
     ]
    },
    {
     "name": "stderr",
     "output_type": "stream",
     "text": [
      "100%|██████████| 81/81 [00:00<00:00, 396.89it/s]\n",
      " 41%|████      | 33/81 [00:00<00:00, 325.94it/s]"
     ]
    },
    {
     "name": "stdout",
     "output_type": "stream",
     "text": [
      "epoch 099/100\n"
     ]
    },
    {
     "name": "stderr",
     "output_type": "stream",
     "text": [
      "100%|██████████| 81/81 [00:00<00:00, 303.21it/s]\n",
      " 33%|███▎      | 27/81 [00:00<00:00, 267.03it/s]"
     ]
    },
    {
     "name": "stdout",
     "output_type": "stream",
     "text": [
      "epoch 100/100\n"
     ]
    },
    {
     "name": "stderr",
     "output_type": "stream",
     "text": [
      "100%|██████████| 81/81 [00:00<00:00, 312.25it/s]\n"
     ]
    }
   ],
   "source": [
    "# define training params\n",
    "train_kwargs = {\n",
    "    'learning_rate': 1e-4,  # adam learning rate\n",
    "    'l2_reg': 0,  # general l2 reg on parameters\n",
    "    'min_epochs': 1,  # minimum number of training epochs\n",
    "    'max_epochs': 100,  # maximum number of training epochs\n",
    "    'val_check_interval': 1,  # requency with which to log performance on val data\n",
    "    'rng_seed_train': 0,  # control order in which data are served to model\n",
    "    'enable_early_stop': False,  # True to use early stopping; False will use max_epochs\n",
    "    'early_stop_history': 10,  # epochs over which to average early stopping metric\n",
    "    'save_last_model': True,  # true to save out last (as well as best) model\n",
    "}\n",
    "\n",
    "# fit model!\n",
    "model.fit(data_gen, save_path=model_save_path, **train_kwargs)"
   ]
  },
  {
   "cell_type": "markdown",
   "metadata": {},
   "source": [
    "### evaluate model"
   ]
  },
  {
   "cell_type": "code",
   "execution_count": 7,
   "metadata": {},
   "outputs": [],
   "source": [
    "# load hand labels\n",
    "from numpy import genfromtxt\n",
    "labels = genfromtxt(hand_labels_file, delimiter=',', dtype=np.int, encoding=None)\n",
    "labels = labels[1:, 1:]  # get rid of headers, etc.\n",
    "states = np.argmax(labels, axis=1)\n",
    "\n",
    "# get model predictions for each time point\n",
    "predictions = model.predict_labels(data_gen)['predictions']\n",
    "\n",
    "# compute precision and recall for each behavior type\n",
    "scores = get_precision_recall(\n",
    "    states, np.argmax(np.vstack(predictions[0]), axis=1), background=0)"
   ]
  },
  {
   "cell_type": "code",
   "execution_count": 10,
   "metadata": {},
   "outputs": [],
   "source": [
    "import pickle\n",
    "with open(labels_file, 'rb') as f:\n",
    "    states_heur = pickle.load(f)['states']\n",
    "    \n",
    "scores = get_precision_recall(states, states_heur, background=0)"
   ]
  },
  {
   "cell_type": "markdown",
   "metadata": {},
   "source": [
    "### plot results"
   ]
  },
  {
   "cell_type": "code",
   "execution_count": 11,
   "metadata": {},
   "outputs": [
    {
     "data": {
      "image/png": "[encoded data removed]",
      "text/plain": [
       "<Figure size 432x216 with 2 Axes>"
      ]
     },
     "metadata": {
      "needs_background": "light"
     },
     "output_type": "display_data"
    }
   ],
   "source": [
    "class_names = ['still', 'walk', 'front-groom', 'back-groom']\n",
    "n_classes = len(class_names)\n",
    "\n",
    "# get rid of background class\n",
    "precision = scores['precision'][1:]\n",
    "recall = scores['recall'][1:]\n",
    "\n",
    "fig, axes = plt.subplots(1, 2, figsize=(6, 3))\n",
    "\n",
    "axes[0].bar(np.arange(n_classes), precision)\n",
    "axes[0].set_xticks(np.arange(n_classes))\n",
    "axes[0].set_xticklabels(class_names, rotation=45, ha='right')\n",
    "axes[0].set_title('Precision')\n",
    "\n",
    "axes[1].bar(np.arange(n_classes), precision)\n",
    "axes[1].set_xticks(np.arange(n_classes))\n",
    "axes[1].set_xticklabels(class_names, rotation=45, ha='right')\n",
    "axes[1].set_title('Recall')\n",
    "\n",
    "plt.tight_layout()\n",
    "plt.show()"
   ]
  }
 ],
 "metadata": {
  "kernelspec": {
   "display_name": "daart",
   "language": "python",
   "name": "daart"
  },
  "language_info": {
   "codemirror_mode": {
    "name": "ipython",
    "version": 3
   },
   "file_extension": ".py",
   "mimetype": "text/x-python",
   "name": "python",
   "nbconvert_exporter": "python",
   "pygments_lexer": "ipython3",
   "version": "3.6.12"
  }
 },
 "nbformat": 4,
 "nbformat_minor": 2
}
